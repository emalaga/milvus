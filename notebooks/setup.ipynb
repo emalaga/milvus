{
 "cells": [
  {
   "cell_type": "markdown",
   "metadata": {},
   "source": [
    "This notebook is an adaption of Milvus quickstart available at: https://milvus.io/docs/quickstart.md"
   ]
  },
  {
   "cell_type": "markdown",
   "metadata": {},
   "source": [
    "Installing pymilvus. This is only required once. Comment aftewards. "
   ]
  },
  {
   "cell_type": "code",
   "execution_count": 7,
   "metadata": {},
   "outputs": [],
   "source": [
    "#%pip install -U pymilvus"
   ]
  },
  {
   "cell_type": "markdown",
   "metadata": {},
   "source": [
    "Creating the client"
   ]
  },
  {
   "cell_type": "code",
   "execution_count": 4,
   "metadata": {},
   "outputs": [],
   "source": [
    "from pymilvus import MilvusClient\n",
    "\n",
    "client = MilvusClient(\"milvus_demo.db\")"
   ]
  },
  {
   "cell_type": "markdown",
   "metadata": {},
   "source": [
    "Creating the collection with default values"
   ]
  },
  {
   "cell_type": "code",
   "execution_count": 5,
   "metadata": {},
   "outputs": [],
   "source": [
    "if client.has_collection(collection_name=\"demo_collection\"):\n",
    "    client.drop_collection(collection_name=\"demo_collection\")\n",
    "client.create_collection(\n",
    "    collection_name=\"demo_collection\",\n",
    "    dimension=768,  # The vectors we will use in this demo has 768 dimensions\n",
    ")"
   ]
  },
  {
   "cell_type": "markdown",
   "metadata": {},
   "source": [
    "Installing the model library"
   ]
  },
  {
   "cell_type": "code",
   "execution_count": 8,
   "metadata": {},
   "outputs": [],
   "source": [
    "#%pip install \"pymilvus[model]\""
   ]
  },
  {
   "cell_type": "code",
   "execution_count": 9,
   "metadata": {},
   "outputs": [
    {
     "name": "stderr",
     "output_type": "stream",
     "text": [
      "/Users/emalaga/Dropbox/Ed Documents/Coding/Tutorials/milvus/.venv/lib/python3.11/site-packages/tqdm/auto.py:21: TqdmWarning: IProgress not found. Please update jupyter and ipywidgets. See https://ipywidgets.readthedocs.io/en/stable/user_install.html\n",
      "  from .autonotebook import tqdm as notebook_tqdm\n",
      "None of PyTorch, TensorFlow >= 2.0, or Flax have been found. Models won't be available and only tokenizers, configuration and file/data utilities can be used.\n"
     ]
    },
    {
     "name": "stdout",
     "output_type": "stream",
     "text": [
      "Dim: 768 (768,)\n",
      "Data has 3 entities, each with fields:  dict_keys(['id', 'vector', 'text', 'subject'])\n",
      "Vector dim: 768\n"
     ]
    }
   ],
   "source": [
    "from pymilvus import model\n",
    "\n",
    "# If connection to https://huggingface.co/ failed, uncomment the following path\n",
    "# import os\n",
    "# os.environ['HF_ENDPOINT'] = 'https://hf-mirror.com'\n",
    "\n",
    "# This will download a small embedding model \"paraphrase-albert-small-v2\" (~50MB).\n",
    "embedding_fn = model.DefaultEmbeddingFunction()\n",
    "\n",
    "# Text strings to search from.\n",
    "docs = [\n",
    "    \"Artificial intelligence was founded as an academic discipline in 1956.\",\n",
    "    \"Alan Turing was the first person to conduct substantial research in AI.\",\n",
    "    \"Born in Maida Vale, London, Turing was raised in southern England.\",\n",
    "]\n",
    "\n",
    "vectors = embedding_fn.encode_documents(docs)\n",
    "# The output vector has 768 dimensions, matching the collection that we just created.\n",
    "print(\"Dim:\", embedding_fn.dim, vectors[0].shape)  # Dim: 768 (768,)\n",
    "\n",
    "# Each entity has id, vector representation, raw text, and a subject label that we use\n",
    "# to demo metadata filtering later.\n",
    "data = [\n",
    "    {\"id\": i, \"vector\": vectors[i], \"text\": docs[i], \"subject\": \"history\"}\n",
    "    for i in range(len(vectors))\n",
    "]\n",
    "\n",
    "print(\"Data has\", len(data), \"entities, each with fields: \", data[0].keys())\n",
    "print(\"Vector dim:\", len(data[0][\"vector\"]))"
   ]
  },
  {
   "cell_type": "markdown",
   "metadata": {},
   "source": [
    "Inserting data into the collection"
   ]
  },
  {
   "cell_type": "code",
   "execution_count": 10,
   "metadata": {},
   "outputs": [
    {
     "name": "stdout",
     "output_type": "stream",
     "text": [
      "{'insert_count': 3, 'ids': [0, 1, 2]}\n"
     ]
    }
   ],
   "source": [
    "res = client.insert(collection_name=\"demo_collection\", data=data)\n",
    "\n",
    "print(res)"
   ]
  },
  {
   "cell_type": "markdown",
   "metadata": {},
   "source": [
    "## Vector Search"
   ]
  },
  {
   "cell_type": "code",
   "execution_count": 11,
   "metadata": {},
   "outputs": [
    {
     "name": "stdout",
     "output_type": "stream",
     "text": [
      "data: [\"[{'id': 2, 'distance': 0.5859946608543396, 'entity': {'text': 'Born in Maida Vale, London, Turing was raised in southern England.', 'subject': 'history'}}, {'id': 1, 'distance': 0.5118259191513062, 'entity': {'text': 'Alan Turing was the first person to conduct substantial research in AI.', 'subject': 'history'}}]\"]\n"
     ]
    }
   ],
   "source": [
    "query_vectors = embedding_fn.encode_queries([\"Who is Alan Turing?\"])\n",
    "# If you don't have the embedding function you can use a fake vector to finish the demo:\n",
    "# query_vectors = [ [ random.uniform(-1, 1) for _ in range(768) ] ]\n",
    "\n",
    "res = client.search(\n",
    "    collection_name=\"demo_collection\",  # target collection\n",
    "    data=query_vectors,  # query vectors\n",
    "    limit=2,  # number of returned entities\n",
    "    output_fields=[\"text\", \"subject\"],  # specifies fields to be returned\n",
    ")\n",
    "\n",
    "print(res)\n"
   ]
  },
  {
   "cell_type": "markdown",
   "metadata": {},
   "source": [
    "## Vector Search with Metadata filtering"
   ]
  },
  {
   "cell_type": "code",
   "execution_count": 12,
   "metadata": {},
   "outputs": [
    {
     "name": "stdout",
     "output_type": "stream",
     "text": [
      "data: [\"[{'id': 4, 'distance': 0.2703055739402771, 'entity': {'text': 'Computational synthesis with AI algorithms predicts molecular properties.', 'subject': 'biology'}}, {'id': 3, 'distance': 0.16425903141498566, 'entity': {'text': 'Machine learning has been used for drug design.', 'subject': 'biology'}}]\"]\n"
     ]
    }
   ],
   "source": [
    "# Insert more docs in another subject.\n",
    "docs = [\n",
    "    \"Machine learning has been used for drug design.\",\n",
    "    \"Computational synthesis with AI algorithms predicts molecular properties.\",\n",
    "    \"DDR1 is involved in cancers and fibrosis.\",\n",
    "]\n",
    "vectors = embedding_fn.encode_documents(docs)\n",
    "data = [\n",
    "    {\"id\": 3 + i, \"vector\": vectors[i], \"text\": docs[i], \"subject\": \"biology\"}\n",
    "    for i in range(len(vectors))\n",
    "]\n",
    "\n",
    "client.insert(collection_name=\"demo_collection\", data=data)\n",
    "\n",
    "# This will exclude any text in \"history\" subject despite close to the query vector.\n",
    "res = client.search(\n",
    "    collection_name=\"demo_collection\",\n",
    "    data=embedding_fn.encode_queries([\"tell me AI related information\"]),\n",
    "    filter=\"subject == 'biology'\",\n",
    "    limit=2,\n",
    "    output_fields=[\"text\", \"subject\"],\n",
    ")\n",
    "\n",
    "print(res)"
   ]
  },
  {
   "cell_type": "markdown",
   "metadata": {},
   "source": [
    "## Query"
   ]
  },
  {
   "cell_type": "markdown",
   "metadata": {},
   "source": [
    "By value in scalar field"
   ]
  },
  {
   "cell_type": "code",
   "execution_count": 17,
   "metadata": {},
   "outputs": [
    {
     "name": "stdout",
     "output_type": "stream",
     "text": [
      "data: [\"{'id': 0, 'text': 'Artificial intelligence was founded as an academic discipline in 1956.', 'subject': 'history'}\", \"{'id': 1, 'text': 'Alan Turing was the first person to conduct substantial research in AI.', 'subject': 'history'}\", \"{'id': 2, 'text': 'Born in Maida Vale, London, Turing was raised in southern England.', 'subject': 'history'}\"]\n"
     ]
    }
   ],
   "source": [
    "res = client.query(\n",
    "    collection_name=\"demo_collection\",\n",
    "    filter=\"subject == 'history'\",\n",
    "    output_fields=[\"text\", \"subject\"],\n",
    ")\n",
    "\n",
    "print(res)"
   ]
  },
  {
   "cell_type": "markdown",
   "metadata": {},
   "source": [
    "By id"
   ]
  },
  {
   "cell_type": "code",
   "execution_count": 18,
   "metadata": {},
   "outputs": [
    {
     "name": "stdout",
     "output_type": "stream",
     "text": [
      "data: [\"{'id': 0, 'text': 'Artificial intelligence was founded as an academic discipline in 1956.', 'subject': 'history', 'vector': [np.float32(0.01072784), np.float32(-0.03589515), np.float32(0.018749738), np.float32(0.016348766), np.float32(0.0365169), np.float32(0.0035881721), np.float32(-0.0004004701), np.float32(0.028529387), np.float32(0.002274549), np.float32(0.0018362501), np.float32(0.00422585), np.float32(0.027173959), np.float32(-0.0036843463), np.float32(0.030791564), np.float32(0.0045054313), np.float32(0.04422815), np.float32(0.010503838), np.float32(-0.029494528), np.float32(-0.0670734), np.float32(-0.02052644), np.float32(0.015322757), np.float32(-0.0060049477), np.float32(-0.06228548), np.float32(-0.039614733), np.float32(0.014206295), np.float32(0.03270766), np.float32(-0.020834588), np.float32(-0.044174295), np.float32(-0.028339865), np.float32(0.029424466), np.float32(-0.028087215), np.float32(-0.02080904), np.float32(0.017159743), np.float32(0.0021116557), np.float32(0.021823762), np.float32(-0.0015776267), np.float32(-0.037696723), np.float32(0.041460745), np.float32(-0.025056371), np.float32(0.08333677), np.float32(-0.015979158), np.float32(0.0098138135), np.float32(-0.026605394), np.float32(0.00061899296), np.float32(0.0037359006), np.float32(-0.034155164), np.float32(0.058708258), np.float32(-0.023721963), np.float32(0.006745936), np.float32(-0.035841852), np.float32(-0.017560016), np.float32(0.022803145), np.float32(0.002664642), np.float32(0.025119293), np.float32(0.04694517), np.float32(0.012622698), np.float32(0.01833743), np.float32(-0.00716558), np.float32(0.042811252), np.float32(0.0050310087), np.float32(0.057055518), np.float32(-0.014866011), np.float32(0.100454725), np.float32(0.0064572706), np.float32(-0.068327196), np.float32(-0.016902713), np.float32(0.01197728), np.float32(-0.0015766292), np.float32(-0.022061693), np.float32(0.021156557), np.float32(0.040710855), np.float32(-0.036009934), np.float32(0.019724019), np.float32(-0.047073323), np.float32(-0.08744205), np.float32(-0.00463499), np.float32(0.030835014), np.float32(0.105151996), np.float32(0.016167019), np.float32(-0.008001084), np.float32(0.03367397), np.float32(0.015985578), np.float32(0.03438014), np.float32(0.01834294), np.float32(0.07770008), np.float32(0.02650155), np.float32(-0.052214283), np.float32(-0.09021929), np.float32(-0.012340427), np.float32(0.0530276), np.float32(-0.001127529), np.float32(-0.0059589357), np.float32(0.047962442), np.float32(-0.007965624), np.float32(-0.028406031), np.float32(0.028527314), np.float32(0.06754475), np.float32(-0.028825592), np.float32(-0.03410525), np.float32(0.08487629), np.float32(-0.0076647936), np.float32(-0.06363439), np.float32(-0.06831098), np.float32(-0.033039115), np.float32(-0.0027655368), np.float32(0.0015893044), np.float32(0.013780068), np.float32(-0.018580532), np.float32(-0.008844644), np.float32(-0.05322504), np.float32(-0.014389207), np.float32(0.008077418), np.float32(-0.031215182), np.float32(0.018773355), np.float32(0.04937638), np.float32(0.07315664), np.float32(-0.041901678), np.float32(0.06690273), np.float32(0.008933766), np.float32(0.045684546), np.float32(0.032135233), np.float32(-0.0035595451), np.float32(-0.046143167), np.float32(0.009210243), np.float32(0.067790285), np.float32(0.013374874), np.float32(0.01045406), np.float32(0.037199087), np.float32(0.015420882), np.float32(0.0087867165), np.float32(-0.03334937), np.float32(0.015551737), np.float32(0.059877004), np.float32(0.028978257), np.float32(0.04653308), np.float32(-0.0051459353), np.float32(0.0045557413), np.float32(-0.0018195225), np.float32(0.01053924), np.float32(-0.019132162), np.float32(0.01162155), np.float32(0.014161898), np.float32(0.003436853), np.float32(0.00577895), np.float32(0.035289325), np.float32(0.05426299), np.float32(-0.051606007), np.float32(-0.042924426), np.float32(-0.015439724), np.float32(0.014695486), np.float32(0.012905042), np.float32(-0.006806443), np.float32(0.054335684), np.float32(0.003522818), np.float32(-0.025712887), np.float32(0.0006318656), np.float32(0.016166903), np.float32(-0.006968866), np.float32(-0.042992014), np.float32(0.020684348), np.float32(0.008367286), np.float32(-0.027046844), np.float32(0.08865565), np.float32(-0.052853335), np.float32(-0.012384381), np.float32(-0.041823875), np.float32(0.028681042), np.float32(0.05126986), np.float32(0.060686313), np.float32(0.023955053), np.float32(0.015168799), np.float32(0.07542113), np.float32(0.03369931), np.float32(0.043067973), np.float32(0.042949375), np.float32(-0.010862307), np.float32(-0.023625625), np.float32(-0.06973065), np.float32(-0.070567705), np.float32(-0.02025792), np.float32(0.015855916), np.float32(-0.033651356), np.float32(-0.048191), np.float32(0.05676073), np.float32(0.018719789), np.float32(-0.0074206525), np.float32(0.0074845385), np.float32(0.0042103226), np.float32(-0.010225805), np.float32(0.030543689), np.float32(0.031152325), np.float32(-0.018680105), np.float32(0.050743192), np.float32(0.0009909875), np.float32(-0.0072155623), np.float32(-0.009345533), np.float32(0.054573238), np.float32(0.032344304), np.float32(0.044765465), np.float32(-0.07086169), np.float32(0.009228133), np.float32(0.0067005046), np.float32(-0.088096485), np.float32(-0.02257812), np.float32(0.024984835), np.float32(0.0608311), np.float32(0.019521924), np.float32(-0.07480259), np.float32(0.033076182), np.float32(0.0043049357), np.float32(0.02826552), np.float32(0.036641333), np.float32(0.029163504), np.float32(-0.007841), np.float32(0.016264921), np.float32(-0.011263656), np.float32(-0.0017616551), np.float32(-0.012803457), np.float32(0.020408424), np.float32(0.019711092), np.float32(-0.0017435343), np.float32(-0.032370485), np.float32(-0.015500322), np.float32(9.198698e-05), np.float32(-0.029747184), np.float32(-0.003981712), np.float32(0.007836206), np.float32(0.061483238), np.float32(-0.06592354), np.float32(-0.007985855), np.float32(0.06693116), np.float32(0.009926561), np.float32(-0.0034373056), np.float32(-0.036024176), np.float32(-0.02795151), np.float32(-0.04650127), np.float32(-0.06412067), np.float32(0.03642689), np.float32(0.0825344), np.float32(0.058578413), np.float32(-0.050326906), np.float32(-0.004552819), np.float32(0.0057323417), np.float32(0.032517217), np.float32(0.0040370347), np.float32(-0.042140204), np.float32(-0.030833278), np.float32(-0.031996936), np.float32(-0.037709754), np.float32(0.028296923), np.float32(0.018784652), np.float32(0.032598782), np.float32(0.008394999), np.float32(0.026254565), np.float32(-0.01505596), np.float32(-0.008743744), np.float32(0.015322096), np.float32(0.036640193), np.float32(-0.03363236), np.float32(-0.022526579), np.float32(0.03264003), np.float32(-0.019599907), np.float32(-0.039372683), np.float32(0.05402886), np.float32(-0.06214921), np.float32(0.004090804), np.float32(0.044355474), np.float32(-0.001442027), np.float32(0.014154449), np.float32(0.040782694), np.float32(-0.032073263), np.float32(0.01871426), np.float32(-0.0071425694), np.float32(-0.016126815), np.float32(0.018809818), np.float32(0.024941208), np.float32(-0.0033121915), np.float32(-0.030162675), np.float32(-0.069361046), np.float32(-0.029193755), np.float32(-0.012788973), np.float32(-0.014814703), np.float32(-0.021107176), np.float32(0.0019981011), np.float32(-0.035829935), np.float32(0.003942356), np.float32(-0.06656842), np.float32(0.032609105), np.float32(0.020936647), np.float32(-0.016428733), np.float32(-0.043375727), np.float32(0.022506652), np.float32(0.03756984), np.float32(0.021610012), np.float32(-0.0100742355), np.float32(-0.02976784), np.float32(0.036091402), np.float32(-0.048857596), np.float32(-0.067347504), np.float32(-0.00286092), np.float32(0.047057606), np.float32(0.063848026), np.float32(0.033374727), np.float32(0.028490296), np.float32(0.08580722), np.float32(0.027610151), np.float32(-0.011656813), np.float32(0.04282331), np.float32(0.007727473), np.float32(0.055311423), np.float32(0.023568593), np.float32(-0.052288935), np.float32(-0.021390546), np.float32(0.022336535), np.float32(-0.021049445), np.float32(0.11713362), np.float32(-0.008431856), np.float32(-0.009813105), np.float32(0.022475466), np.float32(-0.015468915), np.float32(0.0429839), np.float32(0.0021705616), np.float32(0.04106739), np.float32(0.03453487), np.float32(0.02216404), np.float32(-0.014718488), np.float32(0.009893835), np.float32(-0.007470287), np.float32(0.043819107), np.float32(0.079693556), np.float32(-0.008172699), np.float32(0.02113235), np.float32(-0.01152827), np.float32(0.013240925), np.float32(0.022433836), np.float32(0.0009229071), np.float32(0.028354507), np.float32(0.025504567), np.float32(0.052205924), np.float32(-0.051219862), np.float32(-0.1183836), np.float32(0.015328748), np.float32(-0.09112672), np.float32(-0.0065620136), np.float32(0.028712686), np.float32(-0.0023050099), np.float32(-0.06273161), np.float32(-0.062445927), np.float32(-0.000224942), np.float32(-0.05743223), np.float32(0.045935426), np.float32(-0.003651397), np.float32(0.051867925), np.float32(0.040445372), np.float32(-0.013785154), np.float32(-0.042955942), np.float32(-0.027023336), np.float32(0.022376968), np.float32(-0.0025893694), np.float32(0.012199838), np.float32(-0.06592009), np.float32(-0.023238117), np.float32(-0.06538679), np.float32(-0.009300314), np.float32(-0.064103976), np.float32(-0.0012813671), np.float32(-0.037788607), np.float32(-0.025802009), np.float32(-0.014350005), np.float32(-0.027356545), np.float32(-0.0059369085), np.float32(-0.017061643), np.float32(-0.0029574784), np.float32(0.057201676), np.float32(-0.036152255), np.float32(-0.003929708), np.float32(-0.013378806), np.float32(0.002776838), np.float32(0.028487312), np.float32(-0.031976636), np.float32(-0.015682448), np.float32(0.04255541), np.float32(0.0024153204), np.float32(-0.04018206), np.float32(-0.046252202), np.float32(0.017401775), np.float32(-0.0031099892), np.float32(-0.037886452), np.float32(-0.030089026), np.float32(0.021874141), np.float32(-0.050345138), np.float32(0.074992634), np.float32(0.006069049), np.float32(0.00016537336), np.float32(-0.0022044592), np.float32(0.04039781), np.float32(0.04486405), np.float32(0.0448386), np.float32(0.016727978), np.float32(0.019455109), np.float32(0.009703004), np.float32(-0.07138638), np.float32(0.0045471597), np.float32(0.011842778), np.float32(-0.021119958), np.float32(0.03186223), np.float32(-0.016316384), np.float32(-0.032452937), np.float32(0.04373429), np.float32(-0.037809506), np.float32(0.018628616), np.float32(0.0026923518), np.float32(0.021439634), np.float32(0.011781702), np.float32(-0.05506033), np.float32(0.09022325), np.float32(-0.011055411), np.float32(0.0696076), np.float32(-0.00035916895), np.float32(-0.08548545), np.float32(0.023872502), np.float32(-0.011865827), np.float32(0.015521559), np.float32(-0.04648565), np.float32(0.015402179), np.float32(0.045940984), np.float32(-0.0070058233), np.float32(-0.009859618), np.float32(0.018634956), np.float32(-0.10528864), np.float32(0.08274659), np.float32(0.048377443), np.float32(-0.03585808), np.float32(0.026860308), np.float32(-0.023511956), np.float32(-0.053222526), np.float32(0.017320262), np.float32(-0.0098801), np.float32(-0.050168414), np.float32(-0.08366872), np.float32(-0.0070052287), np.float32(-0.02042797), np.float32(0.011652227), np.float32(-0.051846538), np.float32(-0.0062781875), np.float32(0.054824673), np.float32(0.011988228), np.float32(-0.008480072), np.float32(0.08319911), np.float32(0.016768776), np.float32(-0.0064335954), np.float32(-0.001610786), np.float32(-0.0510406), np.float32(0.0074883527), np.float32(-0.017966688), np.float32(-0.0047214734), np.float32(-0.047707114), np.float32(-0.0064259185), np.float32(-0.026500847), np.float32(-0.001560902), np.float32(0.024658956), np.float32(-0.05081786), np.float32(-0.039008196), np.float32(0.037326124), np.float32(0.0072396975), np.float32(0.011915891), np.float32(-0.03359963), np.float32(-0.0045112236), np.float32(0.062144924), np.float32(-0.019449402), np.float32(-0.006828425), np.float32(-0.012891609), np.float32(-0.02755838), np.float32(0.056652866), np.float32(-0.004448448), np.float32(-0.015507994), np.float32(0.0012088954), np.float32(-0.021853732), np.float32(0.02412646), np.float32(-0.079422586), np.float32(0.010106065), np.float32(0.023366364), np.float32(-0.054953102), np.float32(0.022021983), np.float32(0.010016442), np.float32(0.009916906), np.float32(0.016157081), np.float32(-0.020806715), np.float32(0.017552564), np.float32(0.07044915), np.float32(0.006960413), np.float32(-0.08593747), np.float32(0.010648436), np.float32(-0.02826761), np.float32(0.030690182), np.float32(-0.053092696), np.float32(-0.018545743), np.float32(-0.04026192), np.float32(0.021165444), np.float32(0.029509071), np.float32(-0.008143827), np.float32(0.018382343), np.float32(0.019559424), np.float32(-0.0492136), np.float32(0.0432258), np.float32(0.07707729), np.float32(-0.022410428), np.float32(0.01040977), np.float32(-0.002723206), np.float32(0.0017686135), np.float32(-0.030084321), np.float32(0.042996142), np.float32(0.004371945), np.float32(-0.0062417313), np.float32(-0.00024068687), np.float32(0.019953888), np.float32(-0.029913113), np.float32(-0.0036833058), np.float32(0.0072269198), np.float32(0.0091771865), np.float32(-0.014358134), np.float32(-0.009241993), np.float32(-0.054557066), np.float32(-0.041030712), np.float32(-0.031650085), np.float32(-0.017134555), np.float32(-0.07748568), np.float32(0.039888922), np.float32(0.03924001), np.float32(0.04896517), np.float32(-0.033233196), np.float32(-0.056566454), np.float32(0.006678551), np.float32(0.04354198), np.float32(-0.038403857), np.float32(0.0101541495), np.float32(-0.07914138), np.float32(-0.021797365), np.float32(-0.026838424), np.float32(0.019221447), np.float32(-0.040806666), np.float32(-0.035613306), np.float32(0.01409001), np.float32(0.0076712254), np.float32(0.029675301), np.float32(-0.06884529), np.float32(-0.056289546), np.float32(0.05667395), np.float32(-0.050510254), np.float32(-0.00088995835), np.float32(-0.005598921), np.float32(0.0033065258), np.float32(0.0057416735), np.float32(-0.026555004), np.float32(-0.008715427), np.float32(0.031434104), np.float32(0.08313017), np.float32(0.038394652), np.float32(-0.058066368), np.float32(0.01918309), np.float32(-0.009726548), np.float32(0.0284389), np.float32(-0.028811365), np.float32(-0.008976409), np.float32(-0.103424065), np.float32(-0.058222927), np.float32(-0.037119865), np.float32(0.02770041), np.float32(-0.045889884), np.float32(-0.030398615), np.float32(-0.039721828), np.float32(-0.03050814), np.float32(-0.019951174), np.float32(0.0015739237), np.float32(0.029676594), np.float32(-0.023864958), np.float32(0.063676864), np.float32(-0.0012287647), np.float32(-0.004436876), np.float32(0.04137747), np.float32(-0.013923589), np.float32(-0.08683906), np.float32(-0.0025845638), np.float32(0.004466323), np.float32(-0.058240198), np.float32(-0.02084864), np.float32(0.011324766), np.float32(0.060676303), np.float32(0.0013325701), np.float32(0.021893488), np.float32(-0.011963786), np.float32(0.017577767), np.float32(0.0006795672), np.float32(0.010710885), np.float32(0.0028006295), np.float32(-0.035948303), np.float32(-0.043163326), np.float32(-0.01026259), np.float32(0.024484394), np.float32(0.037180852), np.float32(-0.010336643), np.float32(-0.026769916), np.float32(0.048004165), np.float32(-0.03420338), np.float32(-0.014748432), np.float32(-0.006314017), np.float32(-0.002850558), np.float32(0.028525122), np.float32(-0.045609985), np.float32(0.06568239), np.float32(-0.049970783), np.float32(0.014379417), np.float32(0.046767067), np.float32(-0.00048966), np.float32(-0.0024831018), np.float32(-0.027972389), np.float32(0.046457343), np.float32(0.021673242), np.float32(0.0023266426), np.float32(0.0026431356), np.float32(0.035424143), np.float32(-0.026333503), np.float32(-0.034039304), np.float32(0.022624632), np.float32(-0.032912765), np.float32(0.018376336), np.float32(-0.027667418), np.float32(0.016704382), np.float32(-0.0021190282), np.float32(-0.04678491), np.float32(-0.030945785), np.float32(0.015710685), np.float32(0.037608474), np.float32(0.015457946), np.float32(0.01971185), np.float32(0.0015763419), np.float32(-0.012232289), np.float32(-0.025360476), np.float32(-0.00022529712), np.float32(0.04619015), np.float32(-0.021766456), np.float32(0.04186549), np.float32(0.025460241), np.float32(0.019476026), np.float32(0.0036154918), np.float32(-0.05268991), np.float32(-0.027686045), np.float32(-0.0015856602), np.float32(-0.04063975), np.float32(0.010056796), np.float32(0.0027428197), np.float32(0.01683984), np.float32(-0.05300666), np.float32(-0.020662587), np.float32(0.054520894), np.float32(0.0064187236), np.float32(-0.0998017), np.float32(-0.013525767), np.float32(-0.04314712), np.float32(-0.0005657721), np.float32(0.016672015), np.float32(-0.0014401267), np.float32(-0.050401706), np.float32(0.014656936), np.float32(0.016222987), np.float32(-0.006697687), np.float32(0.04085151), np.float32(0.040931363), np.float32(-0.03732684), np.float32(0.042844236), np.float32(0.05090431), np.float32(-0.027281368), np.float32(0.010571506), np.float32(-0.05723971), np.float32(-0.0040859976), np.float32(-0.037317406), np.float32(-0.02698224), np.float32(-0.008642878), np.float32(0.0049741287), np.float32(0.026029184), np.float32(0.02021466), np.float32(0.032763813), np.float32(0.016982986), np.float32(0.06404004), np.float32(0.072279125), np.float32(-0.08395769), np.float32(0.013537546), np.float32(-0.027551083), np.float32(0.007747545), np.float32(-0.0018074128), np.float32(-0.015464079), np.float32(0.03398149), np.float32(0.034956213), np.float32(-0.008311086), np.float32(0.01790649), np.float32(0.00599851), np.float32(0.03730631), np.float32(0.020443456), np.float32(-0.019732172), np.float32(-0.05377192), np.float32(-0.018225815), np.float32(-0.045110494), np.float32(-0.011363923), np.float32(0.016595922), np.float32(-0.008448551), np.float32(-0.038325578), np.float32(-0.00014411779), np.float32(0.0039162524), np.float32(0.014675593), np.float32(-0.051637266), np.float32(0.017472332), np.float32(-0.014575287), np.float32(0.09661896), np.float32(-0.011524736), np.float32(-0.032023955), np.float32(-0.0309501), np.float32(0.007309802), np.float32(-0.02888216), np.float32(0.0153195225), np.float32(0.0062880325), np.float32(-0.062369827), np.float32(0.048629984), np.float32(-0.0010824731), np.float32(-0.036816936), np.float32(-0.004562225), np.float32(0.012973148), np.float32(0.019638179), np.float32(-0.028105536), np.float32(0.023023287), np.float32(-0.00094933884), np.float32(-0.01709521), np.float32(-0.044111654), np.float32(-0.004534842), np.float32(-0.005330967), np.float32(-0.031483807), np.float32(-0.07105841), np.float32(0.03053116), np.float32(0.0037262237), np.float32(0.003281028), np.float32(0.014718054), np.float32(0.057047527), np.float32(-0.046617936), np.float32(-0.00024931892), np.float32(-0.07460314), np.float32(0.020438947), np.float32(0.034377474), np.float32(-0.06527676), np.float32(0.046990514), np.float32(0.02138343), np.float32(-0.0038603025), np.float32(0.02175944), np.float32(0.0018460065), np.float32(-0.010373088), np.float32(-0.007582194), np.float32(-0.0072503993), np.float32(0.025801143), np.float32(0.00726363), np.float32(-0.025909426), np.float32(-0.017626168), np.float32(-0.02297466), np.float32(-0.004276843), np.float32(-0.006985676), np.float32(0.06555152), np.float32(0.0010739658), np.float32(0.042343017), np.float32(-0.016625768), np.float32(0.012465794), np.float32(-0.013358161)]}\", \"{'id': 2, 'text': 'Born in Maida Vale, London, Turing was raised in southern England.', 'subject': 'history', 'vector': [np.float32(0.01928133), np.float32(-0.028283106), np.float32(-0.07675661), np.float32(-0.017908167), np.float32(0.011845646), np.float32(0.054446034), np.float32(0.03796569), np.float32(0.057670485), np.float32(0.019603483), np.float32(0.0018648435), np.float32(-0.05741677), np.float32(0.021919291), np.float32(-0.060799703), np.float32(-0.037110254), np.float32(-0.066613875), np.float32(-0.014013293), np.float32(-0.010843674), np.float32(0.020752609), np.float32(-0.0052933726), np.float32(0.05054171), np.float32(-0.03552857), np.float32(-0.062134054), np.float32(-0.0028828569), np.float32(0.007493757), np.float32(0.038220227), np.float32(0.009055201), np.float32(-0.02724682), np.float32(-0.015463849), np.float32(-0.00247972), np.float32(0.006007158), np.float32(-0.016478594), np.float32(-0.024107812), np.float32(0.009196113), np.float32(0.020115713), np.float32(0.021710455), np.float32(-0.016634623), np.float32(-0.029107539), np.float32(-0.006651737), np.float32(0.02190219), np.float32(-0.0042418162), np.float32(-0.040101733), np.float32(-0.010728997), np.float32(-0.045173783), np.float32(-0.012757475), np.float32(-0.016636888), np.float32(-0.023162384), np.float32(0.013965426), np.float32(0.01101616), np.float32(0.014364047), np.float32(0.009491444), np.float32(-0.026133597), np.float32(-0.017711552), np.float32(0.00021034153), np.float32(0.0042420137), np.float32(-0.041517124), np.float32(0.018948471), np.float32(-0.0030209653), np.float32(-0.057330094), np.float32(0.019971805), np.float32(-0.0005910118), np.float32(-0.0038510456), np.float32(0.012202605), np.float32(0.003706807), np.float32(-0.042360444), np.float32(0.058113795), np.float32(-0.021250896), np.float32(-0.008751341), np.float32(-0.021307146), np.float32(-0.017953347), np.float32(0.02204822), np.float32(-0.004337985), np.float32(0.061716333), np.float32(-0.052218124), np.float32(0.018087309), np.float32(-0.006340983), np.float32(-0.034124676), np.float32(-0.010159073), np.float32(0.086774364), np.float32(-0.06972405), np.float32(-0.05678849), np.float32(0.00018729191), np.float32(-0.04103068), np.float32(-0.041439246), np.float32(0.044522174), np.float32(-0.025784397), np.float32(-0.037024543), np.float32(0.0028142624), np.float32(-0.023263143), np.float32(0.007151976), np.float32(0.01651653), np.float32(-0.035700783), np.float32(-0.0067627267), np.float32(0.040116202), np.float32(0.023779793), np.float32(-0.037065264), np.float32(0.017166376), np.float32(-0.005154137), np.float32(0.044314813), np.float32(-0.017476866), np.float32(0.025730893), np.float32(-0.00071740214), np.float32(-0.070708185), np.float32(0.023777895), np.float32(0.027851742), np.float32(0.007520181), np.float32(-0.006730801), np.float32(0.030355109), np.float32(0.032252382), np.float32(0.048627775), np.float32(0.03145015), np.float32(-0.0043088757), np.float32(0.04749462), np.float32(-0.056381248), np.float32(0.045058753), np.float32(0.054217324), np.float32(-0.022450205), np.float32(-0.023444975), np.float32(0.016400477), np.float32(-0.10038762), np.float32(-0.011314826), np.float32(0.030737503), np.float32(0.069987305), np.float32(0.007253878), np.float32(0.013823592), np.float32(0.009824811), np.float32(0.026957799), np.float32(0.016245155), np.float32(0.07178877), np.float32(-0.038917057), np.float32(-0.043909337), np.float32(0.016177902), np.float32(0.035242733), np.float32(0.06323492), np.float32(0.0032881766), np.float32(0.04221768), np.float32(-0.018130789), np.float32(0.03341533), np.float32(-0.016487906), np.float32(-0.017070698), np.float32(0.04443123), np.float32(0.012687584), np.float32(-0.026999205), np.float32(0.053910185), np.float32(0.03129961), np.float32(0.009924128), np.float32(0.04964353), np.float32(-0.033303414), np.float32(0.021308474), np.float32(0.024575023), np.float32(0.0010056533), np.float32(0.014374933), np.float32(0.022674408), np.float32(0.03301131), np.float32(0.013506843), np.float32(0.0061712125), np.float32(-0.0713622), np.float32(0.011002987), np.float32(0.00636639), np.float32(0.061733793), np.float32(-0.020329705), np.float32(0.012794089), np.float32(0.05204825), np.float32(0.02007263), np.float32(-0.0023673233), np.float32(0.014109995), np.float32(-0.06598978), np.float32(0.008995901), np.float32(-0.009364174), np.float32(0.013119152), np.float32(-0.044613488), np.float32(-0.0037816558), np.float32(-0.010297606), np.float32(0.039096832), np.float32(0.030267393), np.float32(-0.01421449), np.float32(0.021846153), np.float32(-0.031738173), np.float32(-0.09012187), np.float32(-0.07074505), np.float32(-0.013102654), np.float32(-0.025164364), np.float32(0.042046968), np.float32(0.014155766), np.float32(0.003273404), np.float32(-0.0037687365), np.float32(-0.02463967), np.float32(-0.026024602), np.float32(-0.03941787), np.float32(0.045451567), np.float32(-0.0123659745), np.float32(-0.008559621), np.float32(0.01358205), np.float32(0.0389576), np.float32(0.020395892), np.float32(-0.06879366), np.float32(0.02714715), np.float32(-0.012379966), np.float32(-0.04164029), np.float32(0.02212188), np.float32(-0.03440912), np.float32(-0.02852159), np.float32(-0.011365863), np.float32(-0.010214692), np.float32(-0.06331988), np.float32(0.0075656455), np.float32(-0.01651167), np.float32(-0.07761667), np.float32(-0.020514073), np.float32(-0.059638716), np.float32(0.025096498), np.float32(0.018933218), np.float32(0.029662251), np.float32(0.037923627), np.float32(0.004079755), np.float32(-0.041513737), np.float32(-0.047014922), np.float32(-0.041850455), np.float32(0.05088969), np.float32(0.060534608), np.float32(-0.017094703), np.float32(-0.043227077), np.float32(-0.012025336), np.float32(-0.02076683), np.float32(0.0029238325), np.float32(-0.017963864), np.float32(0.027016541), np.float32(0.05712237), np.float32(0.03504638), np.float32(-0.060144957), np.float32(-0.009496838), np.float32(0.019804917), np.float32(0.06834456), np.float32(-0.037500117), np.float32(0.0007730745), np.float32(0.030533377), np.float32(0.04122323), np.float32(-0.037687093), np.float32(0.0037212835), np.float32(0.005761439), np.float32(-0.0077428557), np.float32(-0.0005202411), np.float32(-0.0069982246), np.float32(0.027690032), np.float32(-0.0044301916), np.float32(-0.038880643), np.float32(0.028535102), np.float32(-0.014973709), np.float32(0.046119537), np.float32(-0.028779024), np.float32(0.020385925), np.float32(0.00963547), np.float32(-0.083871566), np.float32(-0.0145880375), np.float32(-0.028878737), np.float32(0.07109258), np.float32(-0.03932677), np.float32(-0.014365834), np.float32(0.03300436), np.float32(-0.009965335), np.float32(0.07141564), np.float32(-0.00082047656), np.float32(0.028451163), np.float32(-0.019422574), np.float32(0.06143138), np.float32(-0.04548444), np.float32(-0.0035509523), np.float32(0.0475355), np.float32(0.011838817), np.float32(0.0503451), np.float32(0.029790374), np.float32(0.008064318), np.float32(0.05810546), np.float32(-0.031105809), np.float32(-0.019651737), np.float32(0.019874427), np.float32(0.025774976), np.float32(-0.035691623), np.float32(-0.027814426), np.float32(-0.030203942), np.float32(0.012086186), np.float32(-0.012683597), np.float32(-0.012322047), np.float32(0.0078110164), np.float32(0.025085878), np.float32(0.021967776), np.float32(0.057305086), np.float32(-0.0045646233), np.float32(-0.059445355), np.float32(0.028725423), np.float32(0.037857957), np.float32(-0.046775788), np.float32(0.038932484), np.float32(0.0011485537), np.float32(0.0009734718), np.float32(-0.030015267), np.float32(-0.051708814), np.float32(0.008896243), np.float32(-0.019983087), np.float32(0.0034602082), np.float32(0.00016657809), np.float32(0.034343757), np.float32(0.09147948), np.float32(0.033640746), np.float32(-0.018500723), np.float32(-0.021546172), np.float32(-0.0030688562), np.float32(0.06652242), np.float32(-0.046456873), np.float32(0.067293234), np.float32(0.0073863063), np.float32(-0.012557522), np.float32(0.0115064345), np.float32(-0.06326981), np.float32(0.0349506), np.float32(0.01662365), np.float32(0.0116104735), np.float32(0.05419739), np.float32(0.023570627), np.float32(0.020201325), np.float32(0.032954462), np.float32(-0.009367031), np.float32(0.031756565), np.float32(-0.038627785), np.float32(0.0023692104), np.float32(-0.036576454), np.float32(0.034663357), np.float32(0.020835971), np.float32(0.06288209), np.float32(-0.020952517), np.float32(0.012533529), np.float32(-0.012294968), np.float32(0.0182418), np.float32(-0.017522665), np.float32(-0.038971003), np.float32(-0.014575273), np.float32(0.0004971467), np.float32(-0.0035094095), np.float32(0.006997077), np.float32(0.009521075), np.float32(-0.00480158), np.float32(-0.063236386), np.float32(0.0048353868), np.float32(0.060904767), np.float32(0.025174312), np.float32(-0.012250018), np.float32(0.02337908), np.float32(-0.03577502), np.float32(-0.014167619), np.float32(-0.06060772), np.float32(0.042122878), np.float32(0.0008152841), np.float32(0.049050067), np.float32(-0.001985709), np.float32(0.08047499), np.float32(0.0057675797), np.float32(0.008000511), np.float32(0.000886066), np.float32(-0.09224464), np.float32(-0.003573644), np.float32(0.033174817), np.float32(0.03316193), np.float32(0.030172868), np.float32(-0.07336381), np.float32(0.032652944), np.float32(-0.0017743305), np.float32(0.008425107), np.float32(0.020061089), np.float32(-0.021990389), np.float32(-0.016464628), np.float32(0.030506348), np.float32(0.028185965), np.float32(0.03304108), np.float32(0.05061032), np.float32(0.0040052934), np.float32(-0.011990755), np.float32(-0.0014111707), np.float32(0.0048716944), np.float32(-0.017679596), np.float32(0.011223998), np.float32(-0.00750331), np.float32(0.051549546), np.float32(0.033684228), np.float32(-0.019103313), np.float32(-0.014495837), np.float32(-0.044057135), np.float32(-0.017490763), np.float32(-0.026463276), np.float32(0.02224471), np.float32(0.0037452222), np.float32(-0.05695784), np.float32(0.037728053), np.float32(0.08694768), np.float32(-0.03145117), np.float32(0.004229569), np.float32(-0.02328873), np.float32(0.015838515), np.float32(0.012248905), np.float32(0.060716484), np.float32(0.04785089), np.float32(0.00082757947), np.float32(0.01668664), np.float32(-0.041785788), np.float32(-0.013120256), np.float32(0.024860866), np.float32(-0.021316633), np.float32(-0.005319104), np.float32(-0.0024161022), np.float32(0.024024561), np.float32(-0.00042134293), np.float32(0.0067559252), np.float32(-0.022909116), np.float32(-0.01557385), np.float32(0.0033764583), np.float32(-0.04956513), np.float32(-0.040485818), np.float32(0.027869321), np.float32(-0.032576807), np.float32(-0.01449879), np.float32(0.0069670193), np.float32(0.0028689194), np.float32(-0.0089783585), np.float32(-0.008862183), np.float32(-0.01886686), np.float32(0.020647129), np.float32(0.026101675), np.float32(0.031149035), np.float32(-0.013548389), np.float32(-0.013473483), np.float32(-0.0054985597), np.float32(-0.014773179), np.float32(0.010054675), np.float32(-0.038752045), np.float32(-0.09896356), np.float32(-0.027530132), np.float32(-0.02657826), np.float32(0.028769605), np.float32(-0.01385796), np.float32(-0.042473517), np.float32(0.09544868), np.float32(0.07489468), np.float32(-0.011750143), np.float32(-0.0023634115), np.float32(0.021629794), np.float32(-0.010537842), np.float32(0.030459773), np.float32(-0.013420949), np.float32(0.05641506), np.float32(-0.03241443), np.float32(0.031780984), np.float32(-0.0057658204), np.float32(-0.022319786), np.float32(-0.017656945), np.float32(-0.047520712), np.float32(0.031510554), np.float32(0.037337784), np.float32(-0.0022689833), np.float32(-0.046423826), np.float32(-0.099899314), np.float32(-0.019410832), np.float32(-0.056309793), np.float32(-0.04306377), np.float32(0.0147389695), np.float32(0.0035295389), np.float32(0.056083314), np.float32(0.0411822), np.float32(-0.0009944724), np.float32(0.0195021), np.float32(-0.01231494), np.float32(0.019051848), np.float32(-0.002136814), np.float32(0.029047228), np.float32(0.08030762), np.float32(0.025468621), np.float32(0.077044405), np.float32(-0.021088272), np.float32(-0.03402886), np.float32(-0.046009436), np.float32(0.01870247), np.float32(0.02922153), np.float32(-0.020849634), np.float32(-0.026715556), np.float32(0.06209518), np.float32(0.009083968), np.float32(0.07070787), np.float32(-0.03380411), np.float32(0.03254155), np.float32(0.031924408), np.float32(0.02267233), np.float32(-0.0364672), np.float32(-0.040837035), np.float32(-0.0068595954), np.float32(-0.115033634), np.float32(-0.009350529), np.float32(0.009014485), np.float32(0.013353191), np.float32(-0.018204354), np.float32(0.028366236), np.float32(0.043061372), np.float32(0.03272177), np.float32(0.07117608), np.float32(0.0051602465), np.float32(-0.009105587), np.float32(0.05102751), np.float32(-0.029728271), np.float32(0.028516553), np.float32(-0.00072490977), np.float32(-0.0031720514), np.float32(-0.04831492), np.float32(-0.08206165), np.float32(-0.0120496545), np.float32(-0.0005087142), np.float32(-0.063582525), np.float32(0.029505042), np.float32(0.025600193), np.float32(0.045742415), np.float32(-0.053211976), np.float32(-0.004037793), np.float32(-0.060753457), np.float32(-0.022661101), np.float32(-0.028291257), np.float32(-0.037066158), np.float32(0.0007271063), np.float32(-0.0508388), np.float32(0.017698245), np.float32(-0.02399788), np.float32(-0.01064706), np.float32(-0.015736734), np.float32(0.005289879), np.float32(0.010293664), np.float32(0.056283433), np.float32(-0.011544321), np.float32(0.008693957), np.float32(0.017598232), np.float32(-0.089103885), np.float32(-0.053315923), np.float32(0.012299926), np.float32(0.029298503), np.float32(0.046427194), np.float32(-0.004307002), np.float32(-0.009139622), np.float32(0.028048946), np.float32(0.0100800535), np.float32(-0.053101044), np.float32(-0.0334809), np.float32(-0.042200852), np.float32(-0.018348884), np.float32(-0.036279123), np.float32(0.013816269), np.float32(-0.012592266), np.float32(-0.011407165), np.float32(-0.04428335), np.float32(0.010275344), np.float32(0.041654), np.float32(-0.0078858435), np.float32(0.0008150715), np.float32(0.042987183), np.float32(0.01898634), np.float32(-0.0056675724), np.float32(0.00013609279), np.float32(-0.029174026), np.float32(-0.045636695), np.float32(0.058064226), np.float32(0.00067713775), np.float32(-0.06999034), np.float32(0.018261282), np.float32(0.023546066), np.float32(-0.028502917), np.float32(-0.03725166), np.float32(-0.06032225), np.float32(-0.014855201), np.float32(-0.027274618), np.float32(0.02372978), np.float32(-0.040057607), np.float32(0.0042842245), np.float32(0.03432604), np.float32(-0.01462376), np.float32(-0.03221225), np.float32(0.0065158126), np.float32(-0.011694873), np.float32(0.02004322), np.float32(-0.027792508), np.float32(0.02459561), np.float32(0.04603967), np.float32(0.0017809418), np.float32(0.0011758707), np.float32(-0.050963014), np.float32(-0.0043273405), np.float32(-0.008237034), np.float32(0.10511729), np.float32(0.017017482), np.float32(0.0025839421), np.float32(0.0069667487), np.float32(0.029160788), np.float32(0.033835083), np.float32(0.059127152), np.float32(-0.036691852), np.float32(-0.004011979), np.float32(-0.020522187), np.float32(-0.005363818), np.float32(0.019748908), np.float32(-0.017320266), np.float32(-0.030784369), np.float32(0.064350486), np.float32(-0.010488929), np.float32(-0.011937955), np.float32(-0.0266026), np.float32(-0.034957316), np.float32(0.0012404933), np.float32(-0.023529122), np.float32(0.018226795), np.float32(0.020290628), np.float32(-0.014709224), np.float32(-0.022692326), np.float32(-0.034735937), np.float32(-0.017820757), np.float32(-0.028229928), np.float32(0.06201566), np.float32(0.013456646), np.float32(0.05977043), np.float32(-0.051213548), np.float32(-0.012989921), np.float32(-0.05624438), np.float32(-0.015829481), np.float32(-0.030969355), np.float32(-0.028269103), np.float32(-0.05636286), np.float32(-0.010924849), np.float32(-0.0025288644), np.float32(-0.02235332), np.float32(-0.028143201), np.float32(0.017061912), np.float32(-0.026742999), np.float32(-0.047901787), np.float32(-0.036730472), np.float32(0.06843851), np.float32(-0.010193693), np.float32(0.0004167452), np.float32(0.022595942), np.float32(0.030753102), np.float32(0.019276455), np.float32(0.0057910117), np.float32(-0.005679617), np.float32(0.03821994), np.float32(-0.016086984), np.float32(0.030691745), np.float32(0.0044027404), np.float32(-0.06539901), np.float32(-0.03911723), np.float32(0.010204516), np.float32(-0.05856689), np.float32(0.016563596), np.float32(-0.006236901), np.float32(-0.13897522), np.float32(-0.020793593), np.float32(0.04894313), np.float32(0.04077596), np.float32(0.030437145), np.float32(-0.03312812), np.float32(0.042349555), np.float32(0.008859981), np.float32(-0.01539414), np.float32(0.014986841), np.float32(-0.013578133), np.float32(0.013903204), np.float32(-0.00083599123), np.float32(-0.0013697315), np.float32(0.0355425), np.float32(0.008369084), np.float32(0.07133639), np.float32(0.025898766), np.float32(-0.004417219), np.float32(-0.045489486), np.float32(-0.01904002), np.float32(0.035701763), np.float32(-0.10068199), np.float32(-0.0660666), np.float32(-0.014355395), np.float32(0.072528936), np.float32(0.08530513), np.float32(0.04291775), np.float32(-0.03145691), np.float32(-0.03311511), np.float32(-0.0065308157), np.float32(0.020159394), np.float32(-0.005740748), np.float32(-0.06210957), np.float32(0.032814592), np.float32(0.0150266625), np.float32(0.011408501), np.float32(-0.08774349), np.float32(0.038908605), np.float32(0.0060280124), np.float32(-0.03055816), np.float32(0.04287578), np.float32(-0.01554941), np.float32(-0.07391269), np.float32(-0.022139138), np.float32(-0.031878605), np.float32(-0.009522904), np.float32(0.009861247), np.float32(-0.011569027), np.float32(0.03439025), np.float32(-0.08049486), np.float32(0.014043998), np.float32(-0.07672109), np.float32(-0.0671449), np.float32(-0.010078414), np.float32(0.0015688956), np.float32(0.030546024), np.float32(-0.0072576976), np.float32(0.10652498), np.float32(0.0148909725), np.float32(0.015422993), np.float32(0.014039623), np.float32(-0.010565491), np.float32(0.0070919404), np.float32(0.03643724), np.float32(-0.05603783), np.float32(0.06143132), np.float32(0.03268799), np.float32(0.005349122), np.float32(-0.022130812), np.float32(0.033974167), np.float32(-0.023533585), np.float32(0.024791196), np.float32(0.061434116), np.float32(-0.03991044), np.float32(-0.010899045), np.float32(-0.004548201), np.float32(-0.00029748605), np.float32(0.019342018), np.float32(0.0059324973), np.float32(0.002954694), np.float32(-0.07073705), np.float32(0.0043336875), np.float32(-0.057347853), np.float32(0.04062007), np.float32(0.04863906), np.float32(-0.007662374), np.float32(0.006891052), np.float32(0.033559956), np.float32(-0.0132054), np.float32(-0.0407181), np.float32(-0.040086962), np.float32(-0.03977356), np.float32(0.047041822), np.float32(-0.0031562666), np.float32(0.0012056979), np.float32(-0.018283201), np.float32(0.047002684), np.float32(-0.08620518), np.float32(-0.0055809347), np.float32(-0.07238404), np.float32(0.05291757), np.float32(0.030404015), np.float32(0.0654351), np.float32(0.049793053), np.float32(0.043401632), np.float32(-0.049598187), np.float32(0.024344932), np.float32(0.019741818), np.float32(0.02921206), np.float32(-0.046416882), np.float32(0.0034978073), np.float32(0.075817056), np.float32(-0.058527943), np.float32(-0.007137333), np.float32(-0.041292675)]}\"]\n"
     ]
    }
   ],
   "source": [
    "res = client.query(\n",
    "    collection_name=\"demo_collection\",\n",
    "    ids=[0, 2],\n",
    "    output_fields=[\"vector\", \"text\", \"subject\"],\n",
    ")\n",
    "\n",
    "print(res)"
   ]
  }
 ],
 "metadata": {
  "kernelspec": {
   "display_name": ".venv",
   "language": "python",
   "name": "python3"
  },
  "language_info": {
   "codemirror_mode": {
    "name": "ipython",
    "version": 3
   },
   "file_extension": ".py",
   "mimetype": "text/x-python",
   "name": "python",
   "nbconvert_exporter": "python",
   "pygments_lexer": "ipython3",
   "version": "3.11.10"
  }
 },
 "nbformat": 4,
 "nbformat_minor": 2
}
